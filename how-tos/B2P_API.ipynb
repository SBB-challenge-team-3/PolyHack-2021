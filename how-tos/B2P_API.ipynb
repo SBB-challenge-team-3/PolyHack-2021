{
  "nbformat": 4,
  "nbformat_minor": 0,
  "metadata": {
    "colab": {
      "name": "B2P API.ipynb",
      "provenance": [],
      "authorship_tag": "ABX9TyPrGqaMFoV74nRt9OtW5lSU",
      "include_colab_link": true
    },
    "kernelspec": {
      "name": "python3",
      "display_name": "Python 3"
    },
    "language_info": {
      "name": "python"
    }
  },
  "cells": [
    {
      "cell_type": "markdown",
      "metadata": {
        "id": "view-in-github",
        "colab_type": "text"
      },
      "source": [
        "<a href=\"https://colab.research.google.com/github/SBB-challenge-team-3/PolyHACK-2021/blob/main/How%20to/B2P_API.ipynb\" target=\"_parent\"><img src=\"https://colab.research.google.com/assets/colab-badge.svg\" alt=\"Open In Colab\"/></a>"
      ]
    },
    {
      "cell_type": "markdown",
      "metadata": {
        "id": "5y0qaZL6OtEU"
      },
      "source": [
        "This should describe how to retrieve data from the SBB B2P API\n"
      ]
    },
    {
      "cell_type": "code",
      "metadata": {
        "id": "wqXmagLiPGIO"
      },
      "source": [
        "#inport requests, uuid and json\n",
        "import requests\n",
        "import uuid\n",
        "import json"
      ],
      "execution_count": null,
      "outputs": []
    },
    {
      "cell_type": "code",
      "metadata": {
        "id": "iV2crSJVHNFa"
      },
      "source": [
        "# this cell requests a new token and assigns it to the var. 'token'\n",
        "# tokens are valid for 30 mins\n",
        "\n",
        "token_query = {\n",
        "  'grant_type': 'client_credentials',\n",
        "  'client_id': 'af929f08',\n",
        "  'client_secret': 'ae61e214f679558c28678d5c638c5725'\n",
        "}\n",
        "\n",
        "response = requests.post('https://sso-int.sbb.ch/auth/realms/SBB_Public/protocol/openid-connect/token', data=token_query).json()\n",
        "\n",
        "token = response[\"access_token\"]"
      ],
      "execution_count": null,
      "outputs": []
    },
    {
      "cell_type": "code",
      "metadata": {
        "colab": {
          "base_uri": "https://localhost:8080/"
        },
        "id": "ISFL9Tr7Jilf",
        "outputId": "47553c83-1399-417f-fb99-fed3cf989652"
      },
      "source": [
        "# each booking process has its own conversation ID, so different API calls \n",
        "# regarding the same booking process should use the same conversation ID\n",
        "\n",
        "conv_id = uuid.uuid4() #conversation Id\n",
        "print (\"current conversation id: \" + str(conv_id))"
      ],
      "execution_count": null,
      "outputs": [
        {
          "output_type": "stream",
          "name": "stdout",
          "text": [
            "current conversation id: 84d4432e-d263-441c-ae03-ba6d2b8e734a\n"
          ]
        }
      ]
    },
    {
      "cell_type": "code",
      "metadata": {
        "id": "mfQcMh-WfiIT"
      },
      "source": [
        "# this is the authorization header. All requests in the B2P API need to have\n",
        "# headers=auth in the arguments\n",
        "\n",
        "auth = {\n",
        "    'Authorization': f\"Bearer {token}\",\n",
        "    'X-Contract-Id': 'PLY223P',\n",
        "    'X-Conversation-Id': str(conv_id),\n",
        "}"
      ],
      "execution_count": null,
      "outputs": []
    },
    {
      "cell_type": "markdown",
      "metadata": {
        "id": "2zgb0oKeKft3"
      },
      "source": [
        "Location (i.e. PT stops search) API"
      ]
    },
    {
      "cell_type": "code",
      "metadata": {
        "id": "YUEVKW7XdATd"
      },
      "source": [
        "# demo of the PT stop seach API\n",
        "# assign the desired search to the stopName variable and a set of closest matches\n",
        "# will be returned with the respective DIDOK codes and other information about\n",
        "# the stop\n",
        "\n",
        "# this makes the output box smaller cuz otherwise its too big\n",
        "from google.colab.output import eval_js\n",
        "eval_js('google.colab.output.setIframeHeight(\"500\")')\n",
        "\n",
        "stopName = 'enter stop name'\n",
        "\n",
        "query = { 'name' : stopName }\n",
        "\n",
        "stopsRequest = requests.get('https://b2p-int.api.sbb.ch/api/locations', headers=auth, params=query).json()\n",
        "\n",
        "print (json.dumps(stopsRequest, indent=2))"
      ],
      "execution_count": null,
      "outputs": []
    },
    {
      "cell_type": "markdown",
      "metadata": {
        "id": "nnLz1DWrKohN"
      },
      "source": [
        "Trips API"
      ]
    },
    {
      "cell_type": "code",
      "metadata": {
        "id": "eUXc444MiTbP"
      },
      "source": [
        "# demo of trips API\n",
        "# you can enter the desired search parameters in the tripQuery dictionary and\n",
        "# the API will return a list of possible trips with their respective tripId,\n",
        "# which can in turn be used to retrieve the price for that specific trip\n",
        "\n",
        "# this makes the output box smaller cuz otherwise its too big\n",
        "from google.colab.output import eval_js\n",
        "eval_js('google.colab.output.setIframeHeight(\"500\")')\n",
        "\n",
        "# more params can be found in the documentation\n",
        "tripQuery = {\n",
        "    'date' : '2021-10-31',\n",
        "    'time' : '19:44',\n",
        "    'originId' : \"8591122\",\n",
        "    'destinationId' : \"8591123\",\n",
        "}\n",
        "\n",
        "trips= requests.get('https://b2p-int.api.sbb.ch/api/trips', params=tripQuery, headers=auth).json()\n",
        "\n",
        "print (json.dumps(trips, indent=2))"
      ],
      "execution_count": null,
      "outputs": []
    }
  ]
}