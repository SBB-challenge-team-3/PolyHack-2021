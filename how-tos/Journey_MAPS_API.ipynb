{
  "nbformat": 4,
  "nbformat_minor": 0,
  "metadata": {
    "colab": {
      "name": "Journey MAPS API.ipynb",
      "provenance": [],
      "authorship_tag": "ABX9TyMKx8Z9CqMkJjIHAU4VaWsV",
      "include_colab_link": true
    },
    "kernelspec": {
      "name": "python3",
      "display_name": "Python 3"
    },
    "language_info": {
      "name": "python"
    }
  },
  "cells": [
    {
      "cell_type": "markdown",
      "metadata": {
        "id": "view-in-github",
        "colab_type": "text"
      },
      "source": [
        "<a href=\"https://colab.research.google.com/github/SBB-challenge-team-3/PolyHACK-2021/blob/main/How%20to/Journey_MAPS_API.ipynb\" target=\"_parent\"><img src=\"https://colab.research.google.com/assets/colab-badge.svg\" alt=\"Open In Colab\"/></a>"
      ]
    },
    {
      "cell_type": "markdown",
      "metadata": {
        "id": "t-P9_1Q4ktXx"
      },
      "source": [
        "This notebook describes how to use the **Journey MAP API**. From what I understand this API returns the set of **waypoint coordinates** that describe the path of a given trip, i.e. the path the train/bus takes + the footpath between two PT (public transport) stops\n",
        "\n",
        "The official documentation is here:  \n",
        "https://developer-int.sbb.ch/apis/journey-maps/documentation"
      ]
    },
    {
      "cell_type": "code",
      "metadata": {
        "id": "g8gqA3ZGkpBl"
      },
      "source": [
        "# Import requests and json library\n",
        "import requests\n",
        "import json"
      ],
      "execution_count": null,
      "outputs": []
    },
    {
      "cell_type": "code",
      "metadata": {
        "id": "BVtZ2BNflpky"
      },
      "source": [
        "token = '814d86a3ffc49c350bb7dcc48cac69b3'"
      ],
      "execution_count": null,
      "outputs": []
    },
    {
      "cell_type": "markdown",
      "metadata": {
        "id": "BEwEeKhyqkNr"
      },
      "source": [
        "SBB identifies all public transport stops in Switzerland with a so-called DIDOK code.  \n",
        "The list of all stations with their respective DIDOK can be found here  \n",
        "https://opentransportdata.swiss/dataset/didok/resource/8bc5b245-f7c2-4afb-9c1d-151383203650\n"
      ]
    },
    {
      "cell_type": "markdown",
      "metadata": {
        "id": "3Zm2rppzCMPn"
      },
      "source": [
        ""
      ]
    },
    {
      "cell_type": "code",
      "metadata": {
        "colab": {
          "base_uri": "https://localhost:8080/"
        },
        "id": "UZ02TgFOla8I",
        "outputId": "9249aa2e-0156-4501-9b74-5263395079ae"
      },
      "source": [
        "# the /transfer API returns the waypoints for the footpath between two PT stops\n",
        "# close to each other; it also returns the distance in meters and the time for \n",
        "# an average person in sec. In theory the from and to points can also be random\n",
        "# coordinates inside of a city. You can use either \"StationID\" or \"LatLng\" with\n",
        "# the \"from\" and \"to\" prefixes to define the start and end\n",
        "query= {\n",
        "    'api_key' : token,\n",
        "    'client' : 'android',\n",
        "    'clientVersion' : 'latest',\n",
        "    'lang' : 'en',\n",
        "    'fromStationID' : '8503000', # Departure DIDOK here, 8503000 is Zurich HB\n",
        "    'toLatLng' : '47.37478512425994, 8.543512656786625', # somewhere in the Altstadt \n",
        "} \n",
        "\n",
        "response = requests.get(\"https://journey-maps.api.sbb.ch:443/v1/transfer\", params=query)\n",
        "\n",
        "print (json.dumps(response.json(), indent=2))"
      ],
      "execution_count": null,
      "outputs": [
        {
          "output_type": "stream",
          "name": "stdout",
          "text": [
            "{\n",
            "  \"type\": \"FeatureCollection\",\n",
            "  \"bbox\": [\n",
            "    8.540218165632263,\n",
            "    47.37473,\n",
            "    8.54352,\n",
            "    47.378176818642146\n",
            "  ],\n",
            "  \"features\": [\n",
            "    {\n",
            "      \"type\": \"Feature\",\n",
            "      \"properties\": {\n",
            "        \"distanceMeters\": 416,\n",
            "        \"durationSeconds\": 373,\n",
            "        \"type\": \"path\",\n",
            "        \"pathType\": \"walk\",\n",
            "        \"floor\": 0\n",
            "      },\n",
            "      \"geometry\": {\n",
            "        \"type\": \"LineString\",\n",
            "        \"coordinates\": [\n",
            "          [\n",
            "            8.54106,\n",
            "            47.3769\n",
            "          ],\n",
            "          [\n",
            "            8.54113,\n",
            "            47.37685\n",
            "          ],\n",
            "          [\n",
            "            8.54144,\n",
            "            47.37681\n",
            "          ],\n",
            "          [\n",
            "            8.54239,\n",
            "            47.37681\n",
            "          ],\n",
            "          [\n",
            "            8.54305,\n",
            "            47.37677\n",
            "          ],\n",
            "          [\n",
            "            8.54338,\n",
            "            47.37661\n",
            "          ],\n",
            "          [\n",
            "            8.54341,\n",
            "            47.37613\n",
            "          ],\n",
            "          [\n",
            "            8.54329,\n",
            "            47.37566\n",
            "          ],\n",
            "          [\n",
            "            8.54329,\n",
            "            47.37473\n",
            "          ],\n",
            "          [\n",
            "            8.54352,\n",
            "            47.37473\n",
            "          ],\n",
            "          [\n",
            "            8.543512656786625,\n",
            "            47.37478512425994\n",
            "          ]\n",
            "        ]\n",
            "      }\n",
            "    },\n",
            "    {\n",
            "      \"type\": \"Feature\",\n",
            "      \"properties\": {\n",
            "        \"pointType\": \"entrance\",\n",
            "        \"floor\": 0,\n",
            "        \"type\": \"point\"\n",
            "      },\n",
            "      \"geometry\": {\n",
            "        \"type\": \"Point\",\n",
            "        \"coordinates\": [\n",
            "          8.54106,\n",
            "          47.3769\n",
            "        ]\n",
            "      }\n",
            "    },\n",
            "    {\n",
            "      \"type\": \"Feature\",\n",
            "      \"properties\": {\n",
            "        \"endpointType\": \"from\",\n",
            "        \"transportType\": \"other\",\n",
            "        \"label\": \"Z\\u00fcrich HB\",\n",
            "        \"type\": \"endpoint\"\n",
            "      },\n",
            "      \"geometry\": {\n",
            "        \"type\": \"Point\",\n",
            "        \"coordinates\": [\n",
            "          8.540218165632263,\n",
            "          47.378176818642146\n",
            "        ]\n",
            "      }\n",
            "    },\n",
            "    {\n",
            "      \"type\": \"Feature\",\n",
            "      \"properties\": {\n",
            "        \"endpointType\": \"to\",\n",
            "        \"label\": \"\",\n",
            "        \"type\": \"endpoint\"\n",
            "      },\n",
            "      \"geometry\": {\n",
            "        \"type\": \"Point\",\n",
            "        \"coordinates\": [\n",
            "          8.543512656786625,\n",
            "          47.37478512425994\n",
            "        ]\n",
            "      }\n",
            "    }\n",
            "  ]\n",
            "}\n"
          ]
        }
      ]
    },
    {
      "cell_type": "markdown",
      "metadata": {
        "id": "kA2XYoC_B5cI"
      },
      "source": [
        "This is the resulting path  \n",
        "\n",
        "\n",
        "![](https://i.imgur.com/oTVBaWz.jpg)"
      ]
    }
  ]
}