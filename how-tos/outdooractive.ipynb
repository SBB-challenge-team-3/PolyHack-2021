{
  "cells": [
    {
      "cell_type": "markdown",
      "metadata": {
        "colab_type": "text",
        "id": "view-in-github"
      },
      "source": [
        "<a href=\"https://colab.research.google.com/github/SBB-challenge-team-3/PolyHACK-2021/blob/main/How%20to/outdooractive.ipynb\" target=\"_parent\"><img src=\"https://colab.research.google.com/assets/colab-badge.svg\" alt=\"Open In Colab\"/></a>"
      ]
    },
    {
      "cell_type": "code",
      "execution_count": 9,
      "metadata": {
        "id": "8MC6VOK9vnMu"
      },
      "outputs": [],
      "source": [
        "import pandas as pd\n",
        "import numpy as np\n",
        "import matplotlib.pyplot as plt\n",
        "import requests"
      ]
    },
    {
      "cell_type": "code",
      "execution_count": 10,
      "metadata": {
        "id": "Q0fAZuoPvnMw"
      },
      "outputs": [],
      "source": [
        "PROJECT_KEY = \"api-dev-oa\"\n",
        "API_KEY = \"yourtest-outdoora-ctiveapi\"\n",
        "ROOT_URL = \"http://www.outdooractive.com/api/\"\n",
        "ROOT_PROJECT_URL = f\"{ROOT_URL}project/{PROJECT_KEY}\"\n",
        "headers = {\n",
        "    \"Accept\" : \"application/json\"\n",
        "}\n",
        "params = {\n",
        "    \"key\" : API_KEY\n",
        "}"
      ]
    },
    {
      "cell_type": "code",
      "execution_count": 11,
      "metadata": {
        "id": "7ufplhgevnMx",
        "outputId": "6c532772-810f-40ef-c091-652edbeda222"
      },
      "outputs": [
        {
          "data": {
            "text/plain": [
              "{'settings': {'selectedLanguages': ['de', 'en'], 'hasTopTipps': True},\n",
              " 'geometry': {'selectedRegion': '1016993'},\n",
              " 'title': 'outdooractive API Example',\n",
              " 'key': 'api-dev-oa',\n",
              " 'id': '8286876'}"
            ]
          },
          "execution_count": 11,
          "metadata": {},
          "output_type": "execute_result"
        }
      ],
      "source": [
        "url = f\"{ROOT_PROJECT_URL}/settings\"\n",
        "r = requests.get(url, params=params, headers=headers)\n",
        "r.json()"
      ]
    },
    {
      "cell_type": "code",
      "execution_count": 4,
      "metadata": {
        "id": "8Hd9zfhvvnMz",
        "outputId": "6d03298c-d7aa-4f4c-e204-e0291ac112f3"
      },
      "outputs": [
        {
          "name": "stdout",
          "output_type": "stream",
          "text": [
            "Hiking\n",
            "Cycling\n",
            "Running and Skating\n",
            "Mountaineering\n",
            "Winter Activities\n",
            "City\n",
            "Water Trails\n",
            "Equestrian\n",
            "Accommodations\n",
            "Huts\n",
            "Gastronomy\n",
            "Sports\n",
            "Leisure\n",
            "Culture\n",
            "Landscape\n",
            "Health\n",
            "Transport\n",
            "Services\n",
            "Retailers\n",
            "Commercial\n",
            "Education\n",
            "Commercial premises\n",
            "Ski Resort\n",
            "Festivities, Markets & Traditions\n",
            "Sports & Exercises\n",
            "Exhibitions & Guided routes\n",
            "Groups and workshops\n",
            "Theater, Cinema & Stage\n",
            "Music & Concerts\n",
            "Talks & Info Events\n",
            "Current Conditions\n",
            "Closure\n",
            "Notice\n"
          ]
        }
      ],
      "source": [
        "url = ROOT_PROJECT_URL + \"/category/tree\"\n",
        "r = requests.get(url, params=params, headers=headers)\n",
        "\n",
        "for el in r.json()['category']:\n",
        "    print(el['name'])"
      ]
    },
    {
      "cell_type": "code",
      "execution_count": 5,
      "metadata": {
        "id": "Z3FGTKBsvnM0",
        "outputId": "3a9083a6-508f-43aa-d5e1-c7f0b3c833f4"
      },
      "outputs": [
        {
          "name": "stdout",
          "output_type": "stream",
          "text": [
            "Hiking\n",
            "Cycling\n",
            "Running and Skating\n",
            "Mountaineering\n",
            "Winter Activities\n",
            "City\n",
            "Water Trails\n",
            "Equestrian\n"
          ]
        }
      ],
      "source": [
        "url = ROOT_PROJECT_URL + \"/category/tree/tour/pruned\"\n",
        "r = requests.get(url, params=params, headers=headers)\n",
        "for el in r.json()['category']:\n",
        "    print(el['name'])"
      ]
    },
    {
      "cell_type": "code",
      "execution_count": 6,
      "metadata": {
        "id": "x1ZxKYJevnM1",
        "outputId": "c7b7e7a6-3e34-4c2e-f06b-dfe57e806a3c"
      },
      "outputs": [
        {
          "name": "stdout",
          "output_type": "stream",
          "text": [
            "Accommodations\n",
            "Huts\n",
            "Gastronomy\n",
            "Culture\n",
            "Landscape\n",
            "Ski Resort\n"
          ]
        }
      ],
      "source": [
        "url = ROOT_PROJECT_URL + \"/category/tree/poi/pruned\"\n",
        "r = requests.get(url, params=params, headers=headers)\n",
        "for el in r.json()['category']:\n",
        "    print(el['name'])"
      ]
    },
    {
      "cell_type": "code",
      "execution_count": 7,
      "metadata": {
        "id": "nrpsfQ2jvnM1",
        "outputId": "948dbf7c-ff05-443e-85f8-b0a0083e8085"
      },
      "outputs": [
        {
          "name": "stdout",
          "output_type": "stream",
          "text": [
            "{'Hiking': '8982342', 'Cycling': '8982347', 'Running and Skating': '8982354', 'Mountaineering': '8982359', 'Winter Activities': '8982364', 'City': '8982374', 'Water Trails': '8982376', 'Equestrian': '8982380'}\n"
          ]
        }
      ],
      "source": [
        "url = ROOT_PROJECT_URL + \"/category/tree/tours\"\n",
        "r = requests.get(url, params=params, headers=headers)\n",
        "categories = {}\n",
        "for el in r.json()['category']:\n",
        "    categories[el['name']] = el['id']\n",
        "print(categories)"
      ]
    },
    {
      "cell_type": "code",
      "execution_count": 8,
      "metadata": {
        "id": "V22Q5kzWvnM2",
        "outputId": "c3212ada-3773-411e-9b67-b86baad38d87"
      },
      "outputs": [
        {
          "data": {
            "text/plain": [
              "300"
            ]
          },
          "execution_count": 8,
          "metadata": {},
          "output_type": "execute_result"
        }
      ],
      "source": [
        "url = ROOT_PROJECT_URL + \"/filter/tour\"\n",
        "params['category'] = categories['Mountaineering']\n",
        "r = requests.get(url, params=params, headers=headers)\n",
        "object_ids = []\n",
        "for el in r.json()['data']:\n",
        "    object_ids.append(el['id'])\n",
        "len(object_ids)\n"
      ]
    },
    {
      "cell_type": "code",
      "execution_count": null,
      "metadata": {
        "id": "C4Qns6Q_vnM3"
      },
      "outputs": [],
      "source": []
    },
    {
      "cell_type": "code",
      "execution_count": null,
      "metadata": {},
      "outputs": [],
      "source": []
    },
    {
      "cell_type": "code",
      "execution_count": null,
      "metadata": {},
      "outputs": [],
      "source": []
    }
  ],
  "metadata": {
    "colab": {
      "include_colab_link": true,
      "name": "outdooractive.ipynb",
      "provenance": []
    },
    "interpreter": {
      "hash": "bf64ab21560c406979ad669e2d0b03cdade4675a7078444b5c52683a1aa2ced0"
    },
    "kernelspec": {
      "display_name": "Python 3.8.3 64-bit ('base': conda)",
      "name": "python3"
    },
    "language_info": {
      "codemirror_mode": {
        "name": "ipython",
        "version": 3
      },
      "file_extension": ".py",
      "mimetype": "text/x-python",
      "name": "python",
      "nbconvert_exporter": "python",
      "pygments_lexer": "ipython3",
      "version": "3.8.3"
    },
    "orig_nbformat": 4
  },
  "nbformat": 4,
  "nbformat_minor": 0
}
