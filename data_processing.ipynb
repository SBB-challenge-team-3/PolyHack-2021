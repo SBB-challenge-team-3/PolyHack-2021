{
 "cells": [
  {
   "cell_type": "code",
   "execution_count": 83,
   "metadata": {},
   "outputs": [],
   "source": [
    "import json\n",
    "import requests\n",
    "import pandas as pd"
   ]
  },
  {
   "cell_type": "code",
   "execution_count": 106,
   "metadata": {},
   "outputs": [],
   "source": [
    "with open('data.txt') as json_file:\n",
    "    data = json.load(json_file)"
   ]
  },
  {
   "cell_type": "code",
   "execution_count": 107,
   "metadata": {},
   "outputs": [],
   "source": [
    "ids=[]\n",
    "longitudes=[]\n",
    "latitudes=[]\n",
    "improvements=[]\n",
    "categories=[]"
   ]
  },
  {
   "cell_type": "code",
   "execution_count": 108,
   "metadata": {},
   "outputs": [],
   "source": [
    "PROJECT_KEY = \"api-dev-oa\"\n",
    "API_KEY = \"yourtest-outdoora-ctiveapi\"\n",
    "ROOT_URL = \"http://www.outdooractive.com/api/\"\n",
    "ROOT_PROJECT_URL = f\"{ROOT_URL}project/{PROJECT_KEY}\"\n",
    "headers = {\n",
    "    \"Accept\" : \"application/json\"\n",
    "}\n",
    "params = {\n",
    "    \"key\" : API_KEY\n",
    "}\n",
    "\n",
    "for key in data:\n",
    "    if('closest' not in data[key]):\n",
    "        continue\n",
    "    for k in data[key]['closest']:\n",
    "        close_soft = data[key]['closest'][k]['foot_distance']\n",
    "        time_soft = data[key]['closest'][k]['train_time']\n",
    "    maximum = 0\n",
    "    valid = True\n",
    "    for k in data[key]['nearby']:\n",
    "        try:\n",
    "            soft = data[key]['nearby'][k]['foot_distance']\n",
    "            train = data[key]['nearby'][k]['train_time']\n",
    "            x = close_soft+time_soft - (soft+train)\n",
    "            if x > maximum:\n",
    "                maximum = x\n",
    "        except:\n",
    "            pass\n",
    "    if(maximum == 0): continue\n",
    "    url = ROOT_PROJECT_URL + f\"/oois/{key}\"\n",
    "    r = requests.get(url, params=params, headers=headers)\n",
    "    r = (r.json()['tour'][0]['startingPoint'])\n",
    "    ids.append(key)\n",
    "    latitudes.append(r['lat'])\n",
    "    longitudes.append(r['lon'])\n",
    "    improvements.append(maximum)\n",
    "    categories.append('ZH_hikes')\n",
    "        \n",
    "        "
   ]
  },
  {
   "cell_type": "code",
   "execution_count": 109,
   "metadata": {},
   "outputs": [],
   "source": [
    "d = {'id' : ids, 'lon' : longitudes, 'lat': latitudes, 'improvement': improvements, 'category' : categories}\n",
    "df = pd.DataFrame(data=d)"
   ]
  },
  {
   "cell_type": "code",
   "execution_count": 110,
   "metadata": {},
   "outputs": [],
   "source": [
    "df = df[df.improvement < 30000]"
   ]
  },
  {
   "cell_type": "code",
   "execution_count": 111,
   "metadata": {},
   "outputs": [],
   "source": [
    "df.to_csv(\"ZH_hikes.csv\")"
   ]
  },
  {
   "cell_type": "code",
   "execution_count": null,
   "metadata": {},
   "outputs": [],
   "source": []
  },
  {
   "cell_type": "code",
   "execution_count": null,
   "metadata": {},
   "outputs": [],
   "source": []
  }
 ],
 "metadata": {
  "interpreter": {
   "hash": "bf64ab21560c406979ad669e2d0b03cdade4675a7078444b5c52683a1aa2ced0"
  },
  "kernelspec": {
   "display_name": "Python 3.8.3 64-bit ('base': conda)",
   "name": "python3"
  },
  "language_info": {
   "codemirror_mode": {
    "name": "ipython",
    "version": 3
   },
   "file_extension": ".py",
   "mimetype": "text/x-python",
   "name": "python",
   "nbconvert_exporter": "python",
   "pygments_lexer": "ipython3",
   "version": "3.8.3"
  },
  "orig_nbformat": 4
 },
 "nbformat": 4,
 "nbformat_minor": 2
}
